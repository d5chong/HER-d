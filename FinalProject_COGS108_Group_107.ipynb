{
 "cells": [
  {
   "cell_type": "markdown",
   "metadata": {},
   "source": [
    "# COGS 108 - Final Project "
   ]
  },
  {
   "cell_type": "markdown",
   "metadata": {},
   "source": [
    "# Overview"
   ]
  },
  {
   "cell_type": "markdown",
   "metadata": {},
   "source": [
    "*Fill in your overview here*"
   ]
  },
  {
   "cell_type": "markdown",
   "metadata": {},
   "source": [
    "# Names\n",
    "\n",
    "- Diana Chong\n",
    "- Skylar Hom\n",
    "- Tricia Pham\n",
    "- Sofia Sanchez\n",
    "- Emily Tam"
   ]
  },
  {
   "cell_type": "markdown",
   "metadata": {},
   "source": [
    "# Group Members IDs\n",
    "\n",
    "- A14627769\n",
    "- A13022643\n",
    "- A########\n",
    "- A########\n",
    "- A"
   ]
  },
  {
   "cell_type": "markdown",
   "metadata": {},
   "source": [
    "# Research Question"
   ]
  },
  {
   "cell_type": "markdown",
   "metadata": {},
   "source": [
    "Do certain professions have higher or lower instances of heart disease cases? "
   ]
  },
  {
   "cell_type": "markdown",
   "metadata": {},
   "source": [
    "## Background and Prior Work"
   ]
  },
  {
   "cell_type": "markdown",
   "metadata": {},
   "source": [
    "Heart disease is an umbrella term that covers a broad range of conditions involving dysfunction or injury to cardiac functioning (Porta and John, 2018). It is currently the primary cause of death in the United States and worldwide (Weisse, 2008). There are two distinct causes for the development of heart disease: these manifest as congenital heart disease and coronary heart disease. Congenital heart disease refers to an abnormality of the heart at one’s birth. Coronary heart disease is a narrowing of the arterial walls. Deposits of fat and cholesterol, otherwise known as plaque, build up on the walls of blood vessels that transport oxygen to the heart (Kent, 2016). This condition, known as atherosclerosis, can cause significant harm if not treated. If plaque becomes dislodged from the vessel wall, it can cause a blockage further downstream, causing heart attacks, transient ischemic attacks or mini strokes, and death (Kent, 2016).\n",
    "\n",
    "Coronary heart disease is a condition largely affected by a person’s lifestyle. Proper diet and exercise can largely affect one’s predilection for developing heart disease. Smoking, lack of exercise, and obesity have been linked to heightening development of coronary heart disease (Weisse, 2008). Because lifestyle highly impacts cardiovascular health, socioeconomic status and the ability to support a healthy lifestyle can contribute additional factors that put some individuals at a greater risk for heart disease. For example, people of lower income are deterred from more healthy food options because fast foods and processed foods are more affordable. Economic status is restrictive in that it influences where more money is invested and where less is spent. In addition, social status can introduce unhealthy stressors that contribute to overall heart health. Growing up and living in poor conditions with negative factors, like substance abuse and poor hygiene, significantly increases one’s susceptibility to heart disease later on. While there exists significant data that suggests that the results of a lower socioeconomic status can contribute to lifestyle habits that heightens one’s predilection for developing coronary heart disease, there is no current conclusive correlation.\n",
    "\n",
    "Over time, job salaries have changed quite a lot in accordance with variable availability, resources, and necessity. As technologies have made certain jobs obsolete and others in higher demand, wages have adjusted accordingly. Furthermore, as large companies expand their influence and accommodate large sums of currency, the wealth distribution has shifted towards fewer hands. The US Census Bureau has estimated that the average salary across the United States is around $56,516. However, this includes extremely high outliers, which pulls the average higher. Due to the connection between economic status and access to proper and timely healthcare, it may be posited that a profession with a higher average salary will have fewer instances of heart disease. Furthermore, other aspects that contribute to a higher income, such as age, will also be correlated with fewer heart disease cases. This is because wealth tends to accumulate with age, and a person who is older is more likely to have a higher position at their job.\n",
    "\n",
    "\n",
    "References (include links):\n",
    "- 1) Kent, Michael. \"coronary heart disease.\" Food and Fitness: A Dictionary of Diet and Exercise. : Oxford \n",
    "University Press, January 01, 2016. Oxford Reference. Date Accessed 18 Apr. 2019. https://www.oxfordreference.com/view/10.1093/acref/9780191803239.001.0001/acref-9780191803239-e-440.\n",
    "- 2) Porta, Miquel, and John M. Last. \"heart disease.\" A Dictionary of Public Health. : Oxford University Press, \n",
    "January 01, 2018. Oxford Reference. Date Accessed 20 Apr. 2019. https://www.oxfordreference.com/view/10.1093/acref/9780191844386.001.0001/acref-9780191844386-e-1969.\n",
    "- 3) Weisse, Allen B. \"Heart Disease.\" Oxford Encyclopedia of the Modern World. : Oxford University Press, \n",
    "January 01, 2008. Oxford Reference. Date Accessed 18 Apr. 2019. https://www.oxfordreference.com/view/10.1093/acref/9780195176322.001.0001/acref-9780195176322-e-696."
   ]
  },
  {
   "cell_type": "markdown",
   "metadata": {},
   "source": [
    "# Hypothesis\n"
   ]
  },
  {
   "cell_type": "markdown",
   "metadata": {},
   "source": [
    "Null Hypothesis: There is no correlation between instances of heart disease and job type.\n",
    "\n",
    "Alternative Hypothesis: A profession with a higher average salary will correlate with fewer cases of heart disease. This is because higher income would allow for more access to resources conducive to a healthy lifestyle. "
   ]
  },
  {
   "cell_type": "markdown",
   "metadata": {},
   "source": [
    "# Dataset(s)"
   ]
  },
  {
   "cell_type": "markdown",
   "metadata": {},
   "source": [
    "*Fill in your dataset information here*\n",
    "\n",
    "(Copy this information for each dataset)\n",
    "- Dataset Name:\n",
    "- Link to the dataset:\n",
    "- Number of observations:\n",
    "\n",
    "1-2 sentences describing each dataset. \n",
    "\n",
    "If you plan to use multiple datasets, add 1-2 sentences about how you plan to combine these datasets."
   ]
  },
  {
   "cell_type": "markdown",
   "metadata": {},
   "source": [
    "# Setup"
   ]
  },
  {
   "cell_type": "code",
   "execution_count": 3,
   "metadata": {},
   "outputs": [],
   "source": [
    "## YOUR CODE HERE"
   ]
  },
  {
   "cell_type": "markdown",
   "metadata": {},
   "source": [
    "# Data Cleaning"
   ]
  },
  {
   "cell_type": "markdown",
   "metadata": {},
   "source": [
    "Describe your data cleaning steps here."
   ]
  },
  {
   "cell_type": "code",
   "execution_count": 4,
   "metadata": {},
   "outputs": [],
   "source": [
    "## YOUR CODE HERE\n",
    "## FEEL FREE TO ADD MULTIPLE CELLS PER SECTION"
   ]
  },
  {
   "cell_type": "markdown",
   "metadata": {},
   "source": [
    "# Data Analysis & Results"
   ]
  },
  {
   "cell_type": "markdown",
   "metadata": {},
   "source": [
    "Include cells that describe the steps in your data analysis."
   ]
  },
  {
   "cell_type": "code",
   "execution_count": 5,
   "metadata": {},
   "outputs": [],
   "source": [
    "## YOUR CODE HERE\n",
    "## FEEL FREE TO ADD MULTIPLE CELLS PER SECTION"
   ]
  },
  {
   "cell_type": "markdown",
   "metadata": {},
   "source": [
    "# Ethics & Privacy"
   ]
  },
  {
   "cell_type": "markdown",
   "metadata": {},
   "source": [
    "*Fill in your ethics & privacy discussion here*"
   ]
  },
  {
   "cell_type": "markdown",
   "metadata": {},
   "source": [
    "# Conclusion & Discussion"
   ]
  },
  {
   "cell_type": "markdown",
   "metadata": {},
   "source": [
    "*Fill in your discussion information here*"
   ]
  }
 ],
 "metadata": {
  "kernelspec": {
   "display_name": "Python 3",
   "language": "python",
   "name": "python3"
  },
  "language_info": {
   "codemirror_mode": {
    "name": "ipython",
    "version": 3
   },
   "file_extension": ".py",
   "mimetype": "text/x-python",
   "name": "python",
   "nbconvert_exporter": "python",
   "pygments_lexer": "ipython3",
   "version": "3.6.7"
  }
 },
 "nbformat": 4,
 "nbformat_minor": 2
}
